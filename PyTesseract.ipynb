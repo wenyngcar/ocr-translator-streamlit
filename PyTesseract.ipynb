{
 "cells": [
  {
   "cell_type": "code",
   "execution_count": 1,
   "id": "563e2596-42d4-4321-82b2-335a75854a36",
   "metadata": {},
   "outputs": [
    {
     "name": "stdout",
     "output_type": "stream",
     "text": [
      "5.5.0\n"
     ]
    }
   ],
   "source": [
    "import pytesseract\n",
    "from PIL import Image\n",
    "print(pytesseract.get_tesseract_version())"
   ]
  },
  {
   "cell_type": "code",
   "execution_count": 2,
   "id": "dae34b65-8ed5-4291-b707-a1917459ec4b",
   "metadata": {},
   "outputs": [],
   "source": [
    "original_image = \"./images/tanga.jpg\"\n",
    "preProcessedImage = \"./images/processedImage.jpg\""
   ]
  },
  {
   "cell_type": "code",
   "execution_count": 3,
   "id": "1883fedd-897a-4df3-9b65-49151f4ff15a",
   "metadata": {},
   "outputs": [],
   "source": [
    "img = Image.open(preProcessedImage)"
   ]
  },
  {
   "cell_type": "code",
   "execution_count": 4,
   "id": "ccfb9a2a-5ff0-4d9f-aa87-52627682e431",
   "metadata": {},
   "outputs": [],
   "source": [
    "ocr_result = pytesseract.image_to_string(img)"
   ]
  },
  {
   "cell_type": "code",
   "execution_count": 5,
   "id": "ba4799fa-9aea-4359-ba94-f7675cbc178e",
   "metadata": {},
   "outputs": [
    {
     "name": "stdout",
     "output_type": "stream",
     "text": [
      "It was indeed music, the most beautiful music Raggedy\n",
      "Ann had ever heard.\n",
      "\n",
      "Te grew louder, but still seemed to be far away.\n",
      "\n",
      "Raggedy Ann and Fido could hear it distinctly and it\n",
      "sounded as if hundreds of voices were singing in unison.\n",
      "\n",
      "**Please don't howl, Fido,” Raggedy Ann said 2s she put\n",
      "her two rag arms around the dog’s nose. Fido usually “sang”\n",
      "when he heard music.\n",
      "\n",
      "But Fido did not sing this time; he was filled with wonder.\n",
      "Te seemed as if something very nice was going to happen.\n",
      "\n",
      "Raggedy Ann sat upright in bed. The room was flooded\n",
      "with a strange, beautiful light and the music came floating\n",
      "in through the nursery window.\n",
      "\n",
      "Raggedy Ann hopped from her bed and ran across the\n",
      "floor, trailing the bed clothes behind her. Fido followed\n",
      "close behind and together they looked out the window across\n",
      "the flower garden.\n",
      "\n",
      "There among the flowers were hundreds of tiny beings,\n",
      "some playing on tiny reed instruments and flower horns,\n",
      "while others sang. This was the strange, wonderful music\n",
      "Raggedy and Fido had heard.\n",
      "\n",
      "“Te’s the Fairies!” said Raggedy Ann. “To your basket\n",
      "quick, Fido! They are coming this way!” And Raggedy\n",
      "Ann ran back to her bed, with the bed clothes trailing behind\n",
      "her.\n",
      "\n",
      "Fido gave three jumps and he was in his basket, pretending\n",
      "he was sound asleep, but one little black eye was peeping\n",
      "through a chink in the side.\n",
      "\n",
      "Raggedy jumped into her bed and pulled the covera to\n",
      "her chin, but lay so that her shoe-button eyes could see\n",
      "towards the window.\n",
      "\n",
      "Lietle Fairy forms radiant as silver came flitting into the\n",
      "nursery, singing in far away voices, They carried a little\n",
      "bundle. A beautiful light came from this bundle, and to\n",
      "Raggedy Ann and Fido it seemed like sunshine and moon-\n",
      "\n"
     ]
    }
   ],
   "source": [
    "print(ocr_result)"
   ]
  },
  {
   "cell_type": "code",
   "execution_count": null,
   "id": "88b407ca-97e3-4381-95a4-6acf47461bcd",
   "metadata": {},
   "outputs": [],
   "source": []
  },
  {
   "cell_type": "code",
   "execution_count": null,
   "id": "33658689-9a8a-4d61-ad56-6ef4fc55ead1",
   "metadata": {},
   "outputs": [],
   "source": []
  }
 ],
 "metadata": {
  "kernelspec": {
   "display_name": "Python 3 (ipykernel)",
   "language": "python",
   "name": "python3"
  },
  "language_info": {
   "codemirror_mode": {
    "name": "ipython",
    "version": 3
   },
   "file_extension": ".py",
   "mimetype": "text/x-python",
   "name": "python",
   "nbconvert_exporter": "python",
   "pygments_lexer": "ipython3",
   "version": "3.13.1"
  }
 },
 "nbformat": 4,
 "nbformat_minor": 5
}
