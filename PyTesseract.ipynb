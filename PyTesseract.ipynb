{
 "cells": [
  {
   "cell_type": "code",
   "execution_count": 52,
   "id": "563e2596-42d4-4321-82b2-335a75854a36",
   "metadata": {},
   "outputs": [
    {
     "name": "stdout",
     "output_type": "stream",
     "text": [
      "5.5.0\n"
     ]
    }
   ],
   "source": [
    "import cv2\n",
    "import pytesseract\n",
    "from PIL import Image\n",
    "from googletrans import Translator\n",
    "print(pytesseract.get_tesseract_version())"
   ]
  },
  {
   "cell_type": "code",
   "execution_count": 53,
   "id": "dae34b65-8ed5-4291-b707-a1917459ec4b",
   "metadata": {},
   "outputs": [],
   "source": [
    "original_image = \"./images/jpn_hor1.png\"\n",
    "preProcessedImage = \"./images/processedImage.jpg\"\n",
    "org_img = cv2.imread(original_image)\n",
    "prePro_img = cv2.imread(preProcessedImage)\n",
    "cv2.imshow(\"original image\", org_img)\n",
    "cv2.imshow(\"Pre-processed image\", prePro_img)\n",
    "cv2.waitKey(0)\n",
    "cv2.destroyAllWindows()"
   ]
  },
  {
   "cell_type": "code",
   "execution_count": 54,
   "id": "1883fedd-897a-4df3-9b65-49151f4ff15a",
   "metadata": {},
   "outputs": [],
   "source": [
    "img = Image.open(preProcessedImage)"
   ]
  },
  {
   "cell_type": "code",
   "execution_count": 55,
   "id": "ccfb9a2a-5ff0-4d9f-aa87-52627682e431",
   "metadata": {},
   "outputs": [],
   "source": [
    "ocr_result = pytesseract.image_to_string(img, lang=\"jpn\")"
   ]
  },
  {
   "cell_type": "code",
   "execution_count": 56,
   "id": "ba4799fa-9aea-4359-ba94-f7675cbc178e",
   "metadata": {},
   "outputs": [
    {
     "name": "stdout",
     "output_type": "stream",
     "text": [
      "川\n",
      "\n",
      "ご\n",
      "\n",
      "フン\n",
      "\n",
      "ヽ\n",
      "\n",
      "ーフ~\n",
      "\n",
      "\n"
     ]
    }
   ],
   "source": [
    "print(ocr_result)"
   ]
  },
  {
   "cell_type": "code",
   "execution_count": 57,
   "id": "87fc75d0-6e46-4b6f-a991-3e4c74bbd186",
   "metadata": {},
   "outputs": [
    {
     "name": "stdout",
     "output_type": "stream",
     "text": [
      "Original (Japanese):\n",
      "川\n",
      "\n",
      "ご\n",
      "\n",
      "フン\n",
      "\n",
      "ヽ\n",
      "\n",
      "ーフ~\n",
      "\n",
      "\n",
      "\n",
      "Translated (English):\n",
      "river\n",
      "\n",
      "Go\n",
      "\n",
      "Hmm\n",
      "\n",
      "ヽ\n",
      "\n",
      "ーf\n"
     ]
    }
   ],
   "source": [
    "translator = Translator()\n",
    "translated = await translator.translate(ocr_result)\n",
    "print(\"Original (Japanese):\")\n",
    "print(ocr_result)\n",
    "print(\"\\nTranslated (English):\")\n",
    "print(translated.text)"
   ]
  },
  {
   "cell_type": "code",
   "execution_count": null,
   "id": "2aa64bb5-6fb2-45c9-893d-5a4a96f9b99d",
   "metadata": {},
   "outputs": [],
   "source": []
  }
 ],
 "metadata": {
  "kernelspec": {
   "display_name": "Python 3 (ipykernel)",
   "language": "python",
   "name": "python3"
  },
  "language_info": {
   "codemirror_mode": {
    "name": "ipython",
    "version": 3
   },
   "file_extension": ".py",
   "mimetype": "text/x-python",
   "name": "python",
   "nbconvert_exporter": "python",
   "pygments_lexer": "ipython3",
   "version": "3.13.3"
  }
 },
 "nbformat": 4,
 "nbformat_minor": 5
}
