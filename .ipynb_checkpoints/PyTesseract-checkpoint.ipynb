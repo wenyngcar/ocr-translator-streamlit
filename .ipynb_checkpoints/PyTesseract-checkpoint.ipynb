{
 "cells": [
  {
   "cell_type": "code",
   "execution_count": 1,
   "id": "563e2596-42d4-4321-82b2-335a75854a36",
   "metadata": {},
   "outputs": [],
   "source": [
    "import pytesseract\n",
    "from PIL import Image"
   ]
  },
  {
   "cell_type": "code",
   "execution_count": 2,
   "id": "dae34b65-8ed5-4291-b707-a1917459ec4b",
   "metadata": {},
   "outputs": [],
   "source": [
    "original_image = \"./images/tanga.jpg\"\n",
    "preProcessedImage = \"./images/processedImage.jpg\""
   ]
  },
  {
   "cell_type": "code",
   "execution_count": null,
   "id": "1883fedd-897a-4df3-9b65-49151f4ff15a",
   "metadata": {},
   "outputs": [],
   "source": [
    "img = Image.open(preProcessedImage)"
   ]
  },
  {
   "cell_type": "code",
   "execution_count": null,
   "id": "ccfb9a2a-5ff0-4d9f-aa87-52627682e431",
   "metadata": {},
   "outputs": [],
   "source": [
    "ocr_result = pytesseract.image_to_string(img)"
   ]
  },
  {
   "cell_type": "code",
   "execution_count": null,
   "id": "ba4799fa-9aea-4359-ba94-f7675cbc178e",
   "metadata": {},
   "outputs": [],
   "source": [
    "print(ocr_result)"
   ]
  }
 ],
 "metadata": {
  "kernelspec": {
   "display_name": "Python 3 (ipykernel)",
   "language": "python",
   "name": "python3"
  },
  "language_info": {
   "codemirror_mode": {
    "name": "ipython",
    "version": 3
   },
   "file_extension": ".py",
   "mimetype": "text/x-python",
   "name": "python",
   "nbconvert_exporter": "python",
   "pygments_lexer": "ipython3",
   "version": "3.13.1"
  }
 },
 "nbformat": 4,
 "nbformat_minor": 5
}
