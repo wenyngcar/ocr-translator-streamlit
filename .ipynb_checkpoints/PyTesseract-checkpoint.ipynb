{
 "cells": [
  {
   "cell_type": "code",
   "execution_count": 1,
   "id": "563e2596-42d4-4321-82b2-335a75854a36",
   "metadata": {},
   "outputs": [
    {
     "name": "stdout",
     "output_type": "stream",
     "text": [
      "5.5.0\n"
     ]
    }
   ],
   "source": [
    "import cv2\n",
    "import pytesseract\n",
    "from PIL import Image\n",
    "print(pytesseract.get_tesseract_version())"
   ]
  },
  {
   "cell_type": "code",
   "execution_count": 2,
   "id": "dae34b65-8ed5-4291-b707-a1917459ec4b",
   "metadata": {},
   "outputs": [
    {
     "name": "stderr",
     "output_type": "stream",
     "text": [
      "[ WARN:0@0.046] global loadsave.cpp:268 findDecoder imread_('./images/processedImageWithoutBorders.jpg'): can't open/read file: check file path/integrity\n"
     ]
    },
    {
     "ename": "error",
     "evalue": "OpenCV(4.11.0) /io/opencv/modules/highgui/src/window.cpp:973: error: (-215:Assertion failed) size.width>0 && size.height>0 in function 'imshow'\n",
     "output_type": "error",
     "traceback": [
      "\u001b[31m---------------------------------------------------------------------------\u001b[39m",
      "\u001b[31merror\u001b[39m                                     Traceback (most recent call last)",
      "\u001b[36mCell\u001b[39m\u001b[36m \u001b[39m\u001b[32mIn[2]\u001b[39m\u001b[32m, line 6\u001b[39m\n\u001b[32m      4\u001b[39m prePro_img = cv2.imread(preProcessedImage)\n\u001b[32m      5\u001b[39m cv2.imshow(\u001b[33m\"\u001b[39m\u001b[33moriginal image\u001b[39m\u001b[33m\"\u001b[39m, org_img)\n\u001b[32m----> \u001b[39m\u001b[32m6\u001b[39m \u001b[43mcv2\u001b[49m\u001b[43m.\u001b[49m\u001b[43mimshow\u001b[49m\u001b[43m(\u001b[49m\u001b[33;43m\"\u001b[39;49m\u001b[33;43mPre-processed image\u001b[39;49m\u001b[33;43m\"\u001b[39;49m\u001b[43m,\u001b[49m\u001b[43m \u001b[49m\u001b[43mprePro_img\u001b[49m\u001b[43m)\u001b[49m\n\u001b[32m      7\u001b[39m cv2.waitKey(\u001b[32m0\u001b[39m)\n\u001b[32m      8\u001b[39m cv2.destroyAllWindows()\n",
      "\u001b[31merror\u001b[39m: OpenCV(4.11.0) /io/opencv/modules/highgui/src/window.cpp:973: error: (-215:Assertion failed) size.width>0 && size.height>0 in function 'imshow'\n"
     ]
    }
   ],
   "source": [
    "original_image = \"./images/jp_vert1.png\"\n",
    "# preProcessedImage = \"./images/processedImageWithoutBorders.jpg\"\n",
    "org_img = cv2.imread(original_image)\n",
    "# prePro_img = cv2.imread(preProcessedImage)\n",
    "cv2.imshow(\"original image\", org_img)\n",
    "# cv2.imshow(\"Pre-processed image\", prePro_img)\n",
    "cv2.waitKey(0)\n",
    "cv2.destroyAllWindows()"
   ]
  },
  {
   "cell_type": "code",
   "execution_count": 109,
   "id": "1883fedd-897a-4df3-9b65-49151f4ff15a",
   "metadata": {},
   "outputs": [],
   "source": [
    "img = Image.open(original_image)"
   ]
  },
  {
   "cell_type": "code",
   "execution_count": 110,
   "id": "ccfb9a2a-5ff0-4d9f-aa87-52627682e431",
   "metadata": {},
   "outputs": [],
   "source": [
    "ocr_result = pytesseract.image_to_string(img, lang=\"jpn_vert\")"
   ]
  },
  {
   "cell_type": "code",
   "execution_count": 111,
   "id": "ba4799fa-9aea-4359-ba94-f7675cbc178e",
   "metadata": {},
   "outputs": [
    {
     "name": "stdout",
     "output_type": "stream",
     "text": [
      "マス ク ド の 情報 を\n",
      "外部 に 漏 ら そ うと\n",
      "する と 命 を 絶っ て\n",
      "し まう\n",
      "\n"
     ]
    }
   ],
   "source": [
    "print(ocr_result)"
   ]
  },
  {
   "cell_type": "code",
   "execution_count": null,
   "id": "87fc75d0-6e46-4b6f-a991-3e4c74bbd186",
   "metadata": {},
   "outputs": [],
   "source": []
  }
 ],
 "metadata": {
  "kernelspec": {
   "display_name": "Python 3 (ipykernel)",
   "language": "python",
   "name": "python3"
  },
  "language_info": {
   "codemirror_mode": {
    "name": "ipython",
    "version": 3
   },
   "file_extension": ".py",
   "mimetype": "text/x-python",
   "name": "python",
   "nbconvert_exporter": "python",
   "pygments_lexer": "ipython3",
   "version": "3.13.3"
  }
 },
 "nbformat": 4,
 "nbformat_minor": 5
}
