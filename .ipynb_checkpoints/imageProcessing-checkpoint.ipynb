{
 "cells": [
  {
   "cell_type": "code",
   "execution_count": 58,
   "id": "b4bec953-400f-40ea-921b-b596e5aff5ad",
   "metadata": {},
   "outputs": [],
   "source": [
    "import cv2\n",
    "from matplotlib import pyplot as plt\n",
    "image_file = \"./images/jpn_hor1.png\"\n",
    "img = cv2.imread(image_file)"
   ]
  },
  {
   "cell_type": "code",
   "execution_count": 59,
   "id": "2feade52-8788-472e-a257-249cf1d28f66",
   "metadata": {},
   "outputs": [],
   "source": [
    "# Show original image.\n",
    "cv2.imshow(\"original\", img)\n",
    "cv2.waitKey(0)\n",
    "cv2.destroyAllWindows()"
   ]
  },
  {
   "cell_type": "code",
   "execution_count": 61,
   "id": "76ed94ae-2251-4000-b7f9-6bcf9f9c5bb5",
   "metadata": {},
   "outputs": [],
   "source": [
    "def grayscale(image):\n",
    "    return cv2.cvtColor(image, cv2.COLOR_BGR2GRAY)"
   ]
  },
  {
   "cell_type": "code",
   "execution_count": 62,
   "id": "3cdd609d-ce7b-47cd-a011-87e27a7086f7",
   "metadata": {},
   "outputs": [
    {
     "data": {
      "text/plain": [
       "True"
      ]
     },
     "execution_count": 62,
     "metadata": {},
     "output_type": "execute_result"
    }
   ],
   "source": [
    "# Convert the image to gray.\n",
    "gray_image = grayscale(img)\n",
    "cv2.imshow(\"Gray Image\", gray_image)\n",
    "cv2.waitKey(0)\n",
    "cv2.destroyAllWindows()\n",
    "cv2.imwrite(\"./images/processedImageGray.jpg\", gray_image)"
   ]
  },
  {
   "cell_type": "code",
   "execution_count": 60,
   "id": "d85b2236-94ed-4184-bda3-1ee8ed43a53d",
   "metadata": {},
   "outputs": [
    {
     "data": {
      "text/plain": [
       "True"
      ]
     },
     "execution_count": 60,
     "metadata": {},
     "output_type": "execute_result"
    }
   ],
   "source": [
    "# Invert the pixel values.\n",
    "inverted_image = cv2.bitwise_not(gray_image)\n",
    "cv2.imshow(\"Inverted Image\", inverted_image)\n",
    "cv2.waitKey(0)\n",
    "cv2.destroyAllWindows()\n",
    "cv2.imwrite(\"./images/processedImageInverted.jpg\", inverted_image)"
   ]
  },
  {
   "cell_type": "code",
   "execution_count": 63,
   "id": "746bc927-b05d-4783-b95b-db5c9a8b9e62",
   "metadata": {},
   "outputs": [
    {
     "data": {
      "text/plain": [
       "True"
      ]
     },
     "execution_count": 63,
     "metadata": {},
     "output_type": "execute_result"
    }
   ],
   "source": [
    "# Binarize the iamge.\n",
    "thresh, im_bw = cv2.threshold(inverted_image, 210, 230, cv2.THRESH_BINARY)\n",
    "cv2.imshow(\"Black and White Image\", im_bw)\n",
    "cv2.waitKey(0)\n",
    "cv2.destroyAllWindows()\n",
    "cv2.imwrite(\"./images/processedImageBinarize.jpg\", im_bw)"
   ]
  },
  {
   "cell_type": "code",
   "execution_count": 64,
   "id": "b864db57-aa4e-4d08-85f4-d118ec63ae3d",
   "metadata": {},
   "outputs": [],
   "source": [
    "def noise_removal(image):\n",
    "    import numpy as np\n",
    "    kernel = np.ones((3, 3), np.uint8)\n",
    "    image = cv2.dilate(image, kernel, iterations=1)\n",
    "    # kernel = np.ones((1, 1), np.uint8)\n",
    "    image = cv2.erode(image, kernel, iterations=1)\n",
    "    image = cv2.morphologyEx(image, cv2.MORPH_CLOSE, kernel)\n",
    "    image = cv2.medianBlur(image, 3)\n",
    "    return (image)"
   ]
  },
  {
   "cell_type": "code",
   "execution_count": 65,
   "id": "58ed4d0e-1ca5-4566-b347-ed3311f26e57",
   "metadata": {},
   "outputs": [
    {
     "data": {
      "text/plain": [
       "True"
      ]
     },
     "execution_count": 65,
     "metadata": {},
     "output_type": "execute_result"
    }
   ],
   "source": [
    "no_noise = noise_removal(im_bw)\n",
    "cv2.imshow(\"Removed noise Image\", im_bw)\n",
    "cv2.waitKey(0)\n",
    "cv2.destroyAllWindows()\n",
    "cv2.imwrite(\"./images/processedImage.jpg\", no_noise)"
   ]
  },
  {
   "cell_type": "code",
   "execution_count": 66,
   "id": "10b5d84c-9bf9-409a-a92a-bdff9948269c",
   "metadata": {},
   "outputs": [],
   "source": [
    "# Erode function\n",
    "def thin_font(image):\n",
    "    import numpy as np\n",
    "    image = cv2.bitwise_not(image)\n",
    "    kernel = np.ones((2,2),np.uint8)\n",
    "    image = cv2.erode(image, kernel, iterations=1)\n",
    "    image = cv2.bitwise_not(image)\n",
    "    return (image)\n",
    "\n",
    "# Dilate function\n",
    "def thick_font(image):\n",
    "    import numpy as np\n",
    "    image = cv2.bitwise_not(image)\n",
    "    kernel = np.ones((2,2),np.uint8)\n",
    "    image = cv2.dilate(image, kernel, iterations=1)\n",
    "    image = cv2.bitwise_not(image)\n",
    "    return (image)"
   ]
  },
  {
   "cell_type": "code",
   "execution_count": 67,
   "id": "11d4389c-2dec-4120-b402-4288220a4103",
   "metadata": {},
   "outputs": [],
   "source": [
    "eroded_image = thin_font(no_noise)\n",
    "dilated_image = thick_font(no_noise)\n",
    "cv2.imshow(\"Eroded Image\", eroded_image)\n",
    "cv2.imshow(\"Dilated Image\", dilated_image)\n",
    "cv2.waitKey(0)\n",
    "cv2.destroyAllWindows()"
   ]
  },
  {
   "cell_type": "code",
   "execution_count": 68,
   "id": "776dd4cc-9e7e-422c-b4ff-928946d52652",
   "metadata": {},
   "outputs": [
    {
     "data": {
      "text/plain": [
       "True"
      ]
     },
     "execution_count": 68,
     "metadata": {},
     "output_type": "execute_result"
    }
   ],
   "source": [
    "eroded_image = thin_font(no_noise)\n",
    "cv2.imshow(\"Eroded Image\", eroded_image)\n",
    "cv2.waitKey(0)\n",
    "cv2.destroyAllWindows()\n",
    "cv2.imwrite(\"./images/processedImageEroded.jpg\", eroded_image)"
   ]
  },
  {
   "cell_type": "code",
   "execution_count": null,
   "id": "bfa6f2d7-5247-4e2f-a44e-736276cdc165",
   "metadata": {},
   "outputs": [],
   "source": []
  }
 ],
 "metadata": {
  "kernelspec": {
   "display_name": "Python 3 (ipykernel)",
   "language": "python",
   "name": "python3"
  },
  "language_info": {
   "codemirror_mode": {
    "name": "ipython",
    "version": 3
   },
   "file_extension": ".py",
   "mimetype": "text/x-python",
   "name": "python",
   "nbconvert_exporter": "python",
   "pygments_lexer": "ipython3",
   "version": "3.13.3"
  }
 },
 "nbformat": 4,
 "nbformat_minor": 5
}
