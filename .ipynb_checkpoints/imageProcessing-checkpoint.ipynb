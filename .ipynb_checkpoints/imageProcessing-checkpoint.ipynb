{
 "cells": [
  {
   "cell_type": "code",
   "execution_count": 33,
   "id": "b4bec953-400f-40ea-921b-b596e5aff5ad",
   "metadata": {},
   "outputs": [],
   "source": [
    "import cv2\n",
    "from matplotlib import pyplot as plt\n",
    "image_file = \"./images/jjkss2.png\"\n",
    "img = cv2.imread(image_file)"
   ]
  },
  {
   "cell_type": "code",
   "execution_count": 34,
   "id": "2feade52-8788-472e-a257-249cf1d28f66",
   "metadata": {},
   "outputs": [],
   "source": [
    "# Show original image.\n",
    "cv2.imshow(\"original\", img)\n",
    "cv2.waitKey(0)\n",
    "cv2.destroyAllWindows()"
   ]
  },
  {
   "cell_type": "code",
   "execution_count": 35,
   "id": "d85b2236-94ed-4184-bda3-1ee8ed43a53d",
   "metadata": {},
   "outputs": [
    {
     "data": {
      "text/plain": [
       "True"
      ]
     },
     "execution_count": 35,
     "metadata": {},
     "output_type": "execute_result"
    }
   ],
   "source": [
    "# Invert the pixel values.\n",
    "inverted_image = cv2.bitwise_not(img)\n",
    "cv2.imshow(\"Inverted Image\", inverted_image)\n",
    "cv2.waitKey(0)\n",
    "cv2.destroyAllWindows()\n",
    "cv2.imwrite(\"./images/processedImageInverted.jpg\", inverted_image)"
   ]
  },
  {
   "cell_type": "code",
   "execution_count": 36,
   "id": "76ed94ae-2251-4000-b7f9-6bcf9f9c5bb5",
   "metadata": {},
   "outputs": [],
   "source": [
    "def grayscale(image):\n",
    "    return cv2.cvtColor(image, cv2.COLOR_BGR2GRAY)"
   ]
  },
  {
   "cell_type": "code",
   "execution_count": 37,
   "id": "3cdd609d-ce7b-47cd-a011-87e27a7086f7",
   "metadata": {},
   "outputs": [
    {
     "data": {
      "text/plain": [
       "True"
      ]
     },
     "execution_count": 37,
     "metadata": {},
     "output_type": "execute_result"
    }
   ],
   "source": [
    "# Convert the image to gray.\n",
    "gray_image = grayscale(img)\n",
    "cv2.imshow(\"Gray Image\", gray_image)\n",
    "cv2.waitKey(0)\n",
    "cv2.destroyAllWindows()\n",
    "cv2.imwrite(\"./images/processedImageGray.jpg\", gray_image)"
   ]
  },
  {
   "cell_type": "code",
   "execution_count": 38,
   "id": "746bc927-b05d-4783-b95b-db5c9a8b9e62",
   "metadata": {},
   "outputs": [
    {
     "data": {
      "text/plain": [
       "True"
      ]
     },
     "execution_count": 38,
     "metadata": {},
     "output_type": "execute_result"
    }
   ],
   "source": [
    "# Binarize the iamge.\n",
    "thresh, im_bw = cv2.threshold(gray_image, 210, 230, cv2.THRESH_BINARY)\n",
    "cv2.imshow(\"Black and White Image\", im_bw)\n",
    "cv2.waitKey(0)\n",
    "cv2.destroyAllWindows()\n",
    "cv2.imwrite(\"./images/processedImageBinarize.jpg\", im_bw)"
   ]
  },
  {
   "cell_type": "code",
   "execution_count": 39,
   "id": "b864db57-aa4e-4d08-85f4-d118ec63ae3d",
   "metadata": {},
   "outputs": [],
   "source": [
    "def noise_removal(image):\n",
    "    import numpy as np\n",
    "    kernel = np.ones((1, 1), np.uint8)\n",
    "    image = cv2.dilate(image, kernel, iterations=1)\n",
    "    kernel = np.ones((1, 1), np.uint8)\n",
    "    image = cv2.erode(image, kernel, iterations=1)\n",
    "    image = cv2.morphologyEx(image, cv2.MORPH_CLOSE, kernel)\n",
    "    image = cv2.medianBlur(image, 3)\n",
    "    return (image)"
   ]
  },
  {
   "cell_type": "code",
   "execution_count": 40,
   "id": "58ed4d0e-1ca5-4566-b347-ed3311f26e57",
   "metadata": {},
   "outputs": [
    {
     "data": {
      "text/plain": [
       "True"
      ]
     },
     "execution_count": 40,
     "metadata": {},
     "output_type": "execute_result"
    }
   ],
   "source": [
    "no_noise = noise_removal(im_bw)\n",
    "cv2.imshow(\"Removed noise Image\", im_bw)\n",
    "cv2.waitKey(0)\n",
    "cv2.destroyAllWindows()\n",
    "cv2.imwrite(\"./images/processedImage.jpg\", no_noise)"
   ]
  },
  {
   "cell_type": "code",
   "execution_count": 41,
   "id": "10b5d84c-9bf9-409a-a92a-bdff9948269c",
   "metadata": {},
   "outputs": [],
   "source": [
    "# Erode function\n",
    "def thin_font(image):\n",
    "    import numpy as np\n",
    "    image = cv2.bitwise_not(image)\n",
    "    kernel = np.ones((2,2),np.uint8)\n",
    "    image = cv2.erode(image, kernel, iterations=1)\n",
    "    image = cv2.bitwise_not(image)\n",
    "    return (image)\n",
    "\n",
    "# Dilate function\n",
    "def thick_font(image):\n",
    "    import numpy as np\n",
    "    image = cv2.bitwise_not(image)\n",
    "    kernel = np.ones((2,2),np.uint8)\n",
    "    image = cv2.dilate(image, kernel, iterations=1)\n",
    "    image = cv2.bitwise_not(image)\n",
    "    return (image)"
   ]
  },
  {
   "cell_type": "code",
   "execution_count": 42,
   "id": "11d4389c-2dec-4120-b402-4288220a4103",
   "metadata": {},
   "outputs": [],
   "source": [
    "eroded_image = thin_font(no_noise)\n",
    "dilated_image = thick_font(no_noise)\n",
    "cv2.imshow(\"Eroded Image\", eroded_image)\n",
    "cv2.imshow(\"Dilated Image\", dilated_image)\n",
    "cv2.waitKey(0)\n",
    "cv2.destroyAllWindows()"
   ]
  },
  {
   "cell_type": "code",
   "execution_count": 43,
   "id": "776dd4cc-9e7e-422c-b4ff-928946d52652",
   "metadata": {},
   "outputs": [
    {
     "data": {
      "text/plain": [
       "True"
      ]
     },
     "execution_count": 43,
     "metadata": {},
     "output_type": "execute_result"
    }
   ],
   "source": [
    "eroded_image = thin_font(no_noise)\n",
    "cv2.imshow(\"Eroded Image\", eroded_image)\n",
    "cv2.waitKey(0)\n",
    "cv2.destroyAllWindows()\n",
    "cv2.imwrite(\"./images/processedImageEroded.jpg\", eroded_image)"
   ]
  },
  {
   "cell_type": "code",
   "execution_count": 44,
   "id": "c2b08b08-2b3f-4bc9-b01d-1f728c8b231b",
   "metadata": {},
   "outputs": [],
   "source": [
    "# #https://becominghuman.ai/how-to-automatically-deskew-straighten-a-text-image-using-opencv-a0c30aed83df\n",
    "# import numpy as np\n",
    "\n",
    "# def getSkewAngle(cvImage) -> float:\n",
    "#     # Prep image, copy, convert to gray scale, blur, and threshold\n",
    "#     newImage = cvImage.copy()\n",
    "#     gray = cv2.cvtColor(newImage, cv2.COLOR_BGR2GRAY)\n",
    "#     blur = cv2.GaussianBlur(gray, (9, 9), 0)\n",
    "#     thresh = cv2.threshold(blur, 0, 255, cv2.THRESH_BINARY_INV + cv2.THRESH_OTSU)[1]\n",
    "\n",
    "#     # Apply dilate to merge text into meaningful lines/paragraphs.\n",
    "#     # Use larger kernel on X axis to merge characters into single line, cancelling out any spaces.\n",
    "#     # But use smaller kernel on Y axis to separate between different blocks of text\n",
    "#     kernel = cv2.getStructuringElement(cv2.MORPH_RECT, (30, 5))\n",
    "#     dilate = cv2.dilate(thresh, kernel, iterations=2)\n",
    "\n",
    "#     # Find all contours\n",
    "#     contours, hierarchy = cv2.findContours(dilate, cv2.RETR_LIST, cv2.CHAIN_APPROX_SIMPLE)\n",
    "#     contours = sorted(contours, key = cv2.contourArea, reverse = True)\n",
    "#     for c in contours:\n",
    "#         rect = cv2.boundingRect(c)\n",
    "#         x,y,w,h = rect\n",
    "#         cv2.rectangle(newImage,(x,y),(x+w,y+h),(0,255,0),2)\n",
    "\n",
    "#     # Find largest contour and surround in min area box\n",
    "#     largestContour = contours[0]\n",
    "#     print (len(contours))\n",
    "#     minAreaRect = cv2.minAreaRect(largestContour)\n",
    "#     cv2.imwrite(\"temp/boxes.jpg\", newImage)\n",
    "#     # Determine the angle. Convert it to the value that was originally used to obtain skewed image\n",
    "#     angle = minAreaRect[-1]\n",
    "#     if angle < -45:\n",
    "#         angle = 90 + angle\n",
    "#     return -1.0 * angle\n",
    "    \n",
    "# # Rotate the image around its center\n",
    "# def rotateImage(cvImage, angle: float):\n",
    "#     newImage = cvImage.copy()\n",
    "#     (h, w) = newImage.shape[:2]\n",
    "#     center = (w // 2, h // 2)\n",
    "#     M = cv2.getRotationMatrix2D(center, angle, 1.0)\n",
    "#     newImage = cv2.warpAffine(newImage, M, (w, h), flags=cv2.INTER_CUBIC, borderMode=cv2.BORDER_REPLICATE)\n",
    "#     return newImage"
   ]
  },
  {
   "cell_type": "code",
   "execution_count": 45,
   "id": "85717c7a-24fd-42da-a5f4-eb509c3a1bfc",
   "metadata": {},
   "outputs": [],
   "source": [
    "# # Deskew image\n",
    "# def deskew(cvImage):\n",
    "#     angle = getSkewAngle(cvImage)\n",
    "#     return rotateImage(cvImage, -1.0 * angle)"
   ]
  },
  {
   "cell_type": "code",
   "execution_count": 46,
   "id": "1ba8f9ef-6548-4d89-a9fb-63d6517d48c7",
   "metadata": {},
   "outputs": [],
   "source": [
    "# fixed = deskew(img)\n",
    "# cv2.imshow(\"Dilated Image\", fixed)\n",
    "# cv2.waitKey(0)\n",
    "# cv2.destroyAllWindows()"
   ]
  },
  {
   "cell_type": "code",
   "execution_count": null,
   "id": "86c6fe7f-e0bd-4904-8a2d-838cb918951f",
   "metadata": {},
   "outputs": [],
   "source": [
    "def remove_borders(image):\n",
    "    contours, heiarchy = cv2.findContours(image, cv2.RETR_EXTERNAL, cv2.CHAIN_APPROX_SIMPLE)\n",
    "    cntsSorted = sorted(contours, key=lambda x:cv2.contourArea(x))\n",
    "    cnt = cntsSorted[-1]\n",
    "    x, y, w, h = cv2.boundingRect(cnt)\n",
    "    crop = image[y:y+h, x:x+w]\n",
    "    return (crop)"
   ]
  },
  {
   "cell_type": "code",
   "execution_count": null,
   "id": "090ec367-7a72-4608-9299-5378dd618bf0",
   "metadata": {},
   "outputs": [],
   "source": [
    "no_borders = remove_borders(no_noise)\n",
    "cv2.imshow(\"No Borders\", no_borders)\n",
    "cv2.waitKey(0)\n",
    "cv2.destroyAllWindows()\n",
    "cv2.imwrite(\"./images/processedImageWithoutBorders.jpg\", no_borders)\n",
    "\n",
    "# color = [255, 255, 255]\n",
    "# top, bottom, left, right = [150]*4\n",
    "\n",
    "# image_with_border = cv2.copyMakeBorder(no_borders, top, bottom, left, right, cv2.BORDER_CONSTANT, value=color)\n",
    "# cv2.imshow(\"Image with border\", image_with_border)\n",
    "# cv2.waitKey(0)\n",
    "# cv2.destroyAllWindows()"
   ]
  }
 ],
 "metadata": {
  "kernelspec": {
   "display_name": "Python 3 (ipykernel)",
   "language": "python",
   "name": "python3"
  },
  "language_info": {
   "codemirror_mode": {
    "name": "ipython",
    "version": 3
   },
   "file_extension": ".py",
   "mimetype": "text/x-python",
   "name": "python",
   "nbconvert_exporter": "python",
   "pygments_lexer": "ipython3",
   "version": "3.13.3"
  }
 },
 "nbformat": 4,
 "nbformat_minor": 5
}
